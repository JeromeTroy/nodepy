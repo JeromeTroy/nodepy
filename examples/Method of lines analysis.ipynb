{
 "cells": [
  {
   "cell_type": "markdown",
   "metadata": {},
   "source": [
    "For linear initial value problems, stability analysis can be performed by:\n",
    "\n",
    "1.  Computing the eigenvalues $\\lambda_j$ of the ODE system.\n",
    "2.  Determining the maximal timestep $h$ such that $h \\lambda_j$ lies inside the absolute stability region of the time stepping method.\n",
    "\n",
    "This is particularly useful when applying the method of lines to a PDE system; in this case, the eigenvalues come from the semi-discretization of the PDE.  Here we show how this can be done in NodePy with some simple examples."
   ]
  },
  {
   "cell_type": "code",
   "execution_count": null,
   "metadata": {},
   "outputs": [],
   "source": [
    "from matplotlib import pyplot as plt\n",
    "from nodepy import rk, semidisc"
   ]
  },
  {
   "cell_type": "markdown",
   "metadata": {},
   "source": [
    "First we load the classical method of Kutta and the simple first-order upwind semi-discretization of the advection equation (with periodic boundary conditions."
   ]
  },
  {
   "cell_type": "code",
   "execution_count": null,
   "metadata": {},
   "outputs": [],
   "source": [
    "rk4 = rk.loadRKM('RK44')\n",
    "\n",
    "upwind = semidisc.upwind_advection_matrix(100,dx=0.1)"
   ]
  },
  {
   "cell_type": "markdown",
   "metadata": {},
   "source": [
    "Now we can use the method `linearly_stable_step_size` to automatically compute the maximum absolutely stable step size for this combination.  As a bonus, the function shows a plot of the absolute stability region and the (maximally) scaled spectrum."
   ]
  },
  {
   "cell_type": "code",
   "execution_count": null,
   "metadata": {},
   "outputs": [],
   "source": [
    "rk.linearly_stable_step_size(rk4,upwind)"
   ]
  },
  {
   "cell_type": "markdown",
   "metadata": {},
   "source": [
    "We can do the same for another linear spatial discretization."
   ]
  },
  {
   "cell_type": "code",
   "execution_count": null,
   "metadata": {},
   "outputs": [],
   "source": [
    "spectral = semidisc.load_semidisc('spectral difference advection',order=6)\n",
    "rk.linearly_stable_step_size(rk4,spectral.L)"
   ]
  },
  {
   "cell_type": "markdown",
   "metadata": {},
   "source": [
    "For a nonlinear discretization, like WENO, a simple approach is to consider the eigenvalues of one or more linearizations.  Here we use the linearization given in the limit of a very smooth function."
   ]
  },
  {
   "cell_type": "code",
   "execution_count": null,
   "metadata": {},
   "outputs": [],
   "source": [
    "weno5 = semidisc.weno5_linearized_matrix(100)\n",
    "rk.linearly_stable_step_size(rk4,weno5)"
   ]
  },
  {
   "cell_type": "markdown",
   "metadata": {},
   "source": [
    "The next example uses a semi-discretization of an advection-diffusion PDE.  For this stiff PDE, RK4 requires a very small step size and would be inefficient."
   ]
  },
  {
   "cell_type": "code",
   "execution_count": null,
   "metadata": {},
   "outputs": [],
   "source": [
    "centered_diff = semidisc.centered_advection_diffusion_matrix(10.,1.,N=100)\n",
    "rk.linearly_stable_step_size(rk4,centered_diff)"
   ]
  },
  {
   "cell_type": "markdown",
   "metadata": {},
   "source": [
    "A better choice would be a method with good real-axis stability, like the Runge-Kutta-Chebyshev methods.  Let's try one."
   ]
  },
  {
   "cell_type": "code",
   "execution_count": null,
   "metadata": {},
   "outputs": [],
   "source": [
    "rkc = rk.RKC2(10)\n",
    "rk.linearly_stable_step_size(rkc,centered_diff)"
   ]
  },
  {
   "cell_type": "markdown",
   "metadata": {},
   "source": [
    "Unfortunately, this doesn't work as well as hoped because the PDE in question has a small but non-zero convective component.  We can modify the RKC method in order to accommodate this:"
   ]
  },
  {
   "cell_type": "code",
   "execution_count": null,
   "metadata": {},
   "outputs": [],
   "source": [
    "rkc_damped = rk.RKC2(10, epsilon=0.2)\n",
    "rk.linearly_stable_step_size(rkc_damped,centered_diff)"
   ]
  },
  {
   "cell_type": "markdown",
   "metadata": {},
   "source": [
    "Notice that the step size allowed is 10x larger than with the undamped RKC method, and over 20x larger than with the RK4 method.\n",
    "\n",
    "How does the real-axis stability compare between the damped and undamped RKC methods?"
   ]
  },
  {
   "cell_type": "code",
   "execution_count": null,
   "metadata": {},
   "outputs": [],
   "source": [
    "rkc.real_stability_interval()"
   ]
  },
  {
   "cell_type": "code",
   "execution_count": null,
   "metadata": {},
   "outputs": [],
   "source": [
    "rkc_damped.real_stability_interval()"
   ]
  },
  {
   "cell_type": "markdown",
   "metadata": {},
   "source": [
    "As a last example, here's an interactive widget that lets you design an RKC method (choosing the number of stages and the damping parameter) and see the resulting allowed step size.  Experiment with it.  How much damping do you need?  Does it depend on the number of stages?  What method is most efficient?"
   ]
  },
  {
   "cell_type": "code",
   "execution_count": null,
   "metadata": {},
   "outputs": [],
   "source": [
    "from ipywidgets import interact, IntSlider, FloatSlider"
   ]
  },
  {
   "cell_type": "code",
   "execution_count": null,
   "metadata": {},
   "outputs": [],
   "source": [
    "def plot_rkc2_stability_region(s=5,epsilon=0.):\n",
    "    rkc = rk.RKC2(s, epsilon)\n",
    "    h = rk.linearly_stable_step_size(rkc,centered_diff, tol=1.e-13)\n",
    "    print('Maximum stable step size: {:.3e}'.format(h))\n",
    "    plt.show()"
   ]
  },
  {
   "cell_type": "code",
   "execution_count": null,
   "metadata": {},
   "outputs": [],
   "source": [
    "interact(plot_rkc2_stability_region,\n",
    "         s=IntSlider(min=1,max=20,value=5),\n",
    "         epsilon=FloatSlider(min=0.,max=2.,step=0.01,value=0.));"
   ]
  }
 ],
 "metadata": {
  "kernelspec": {
   "display_name": "Python 3",
   "language": "python",
   "name": "python3"
  },
  "language_info": {
   "codemirror_mode": {
    "name": "ipython",
    "version": 3
   },
   "file_extension": ".py",
   "mimetype": "text/x-python",
   "name": "python",
   "nbconvert_exporter": "python",
   "pygments_lexer": "ipython3",
   "version": "3.6.5"
  },
  "toc": {
   "base_numbering": 1,
   "nav_menu": {},
   "number_sections": true,
   "sideBar": true,
   "skip_h1_title": false,
   "title_cell": "Table of Contents",
   "title_sidebar": "Contents",
   "toc_cell": false,
   "toc_position": {},
   "toc_section_display": true,
   "toc_window_display": false
  }
 },
 "nbformat": 4,
 "nbformat_minor": 2
}
