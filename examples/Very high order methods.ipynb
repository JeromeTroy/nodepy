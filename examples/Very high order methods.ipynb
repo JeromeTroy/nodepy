{
 "cells": [
  {
   "cell_type": "markdown",
   "metadata": {},
   "source": [
    "# Properties of extrapolation and deferred correction methods\n",
    "\n",
    "This notebook uses NodePy to investigate some properties of two classes of high-order Runge-Kutta methods: extrapolation and deferred correction.  Both classes allow one to easily construct methods of arbitrarily high order.  For more a more detailed look at the ideas explored here, see [the paper](http://www.davidketcheson.info/assets/papers/2014_hork.pdf)."
   ]
  },
  {
   "cell_type": "code",
   "execution_count": null,
   "metadata": {},
   "outputs": [],
   "source": [
    "import matplotlib.pyplot as plt\n",
    "from nodepy import rk, graph\n",
    "from ipywidgets import interact, Dropdown, IntSlider"
   ]
  },
  {
   "cell_type": "code",
   "execution_count": null,
   "metadata": {},
   "outputs": [],
   "source": [
    "def extrapolation_method(iterations, base='Euler', show='coefficients'):\n",
    "    ex = rk.extrap(iterations, base)\n",
    "    if show =='stability region':\n",
    "        ex.plot_stability_region()\n",
    "        plt.show()\n",
    "    elif show == 'coefficients':\n",
    "        print(ex)"
   ]
  },
  {
   "cell_type": "markdown",
   "metadata": {},
   "source": [
    "## Compare different extrapolation methods interactively"
   ]
  },
  {
   "cell_type": "code",
   "execution_count": null,
   "metadata": {},
   "outputs": [],
   "source": [
    "interact(extrapolation_method, iterations=IntSlider(min=1,max=10,value=3),\n",
    "         base=Dropdown(options=['Euler','Midpoint']),\n",
    "         show=Dropdown(options=['coefficients','stability region']));"
   ]
  },
  {
   "cell_type": "markdown",
   "metadata": {},
   "source": [
    "## A closer look at extrapolation methods\n",
    "\n",
    "We usually think of extrapolation methods in a sort of Shu-Osher form, but they can be written in the same form as any other Runge-Kutta method.  Here's what the Butcher array looks like for a high-order method."
   ]
  },
  {
   "cell_type": "code",
   "execution_count": null,
   "metadata": {},
   "outputs": [],
   "source": [
    "ex5=rk.extrap(5)\n",
    "print(ex5)"
   ]
  },
  {
   "cell_type": "markdown",
   "metadata": {},
   "source": [
    "Although the method has a lot of stages, a lot of them can be computed in parallel:"
   ]
  },
  {
   "cell_type": "code",
   "execution_count": null,
   "metadata": {},
   "outputs": [],
   "source": [
    "len(ex5) # number of stages"
   ]
  },
  {
   "cell_type": "code",
   "execution_count": null,
   "metadata": {},
   "outputs": [],
   "source": [
    "# the maximal number of stages that depend sequentially on each other is clearly smaller\n",
    "ex5.num_seq_dep_stages()"
   ]
  },
  {
   "cell_type": "code",
   "execution_count": null,
   "metadata": {},
   "outputs": [],
   "source": [
    "graph.plot_dependency_graph(ex5)"
   ]
  },
  {
   "cell_type": "markdown",
   "metadata": {},
   "source": [
    "## A closer look at deferred correction methods\n",
    "\n",
    "Similarly, here's what the Butcher array looks like for a high-order deferred correction method:"
   ]
  },
  {
   "cell_type": "code",
   "execution_count": null,
   "metadata": {},
   "outputs": [],
   "source": [
    "dc3 = rk.DC(3)\n",
    "print(dc3)"
   ]
  },
  {
   "cell_type": "code",
   "execution_count": null,
   "metadata": {},
   "outputs": [],
   "source": [
    "dc3.plot_stability_region();"
   ]
  },
  {
   "cell_type": "markdown",
   "metadata": {},
   "source": [
    "This particular class of DC methods, which are based simply on Picard iteration, can also be implemented more efficiently in parallel:"
   ]
  },
  {
   "cell_type": "code",
   "execution_count": null,
   "metadata": {},
   "outputs": [],
   "source": [
    "graph.plot_dependency_graph(dc3)"
   ]
  },
  {
   "cell_type": "code",
   "execution_count": null,
   "metadata": {},
   "outputs": [],
   "source": [
    "print(len(dc3))\n",
    "print(dc3.num_seq_dep_stages())"
   ]
  },
  {
   "cell_type": "markdown",
   "metadata": {},
   "source": [
    "## Imaginary-axis stability of very high-order extrapolation methods\n",
    "The stability functions of these extrapolation methods are simply truncated Taylor polynomials of the exponential function.  As we increase the order, the absolute stability region boundaries get closer and closer to the imaginary axis (since the exponential function itself has magnitude 1 there).  It can be extremely difficult to tell whether the method is stable along the imaginary axis:"
   ]
  },
  {
   "cell_type": "code",
   "execution_count": null,
   "metadata": {},
   "outputs": [],
   "source": [
    "ex8 = rk.extrap(8)\n",
    "ex8.plot_stability_region();"
   ]
  },
  {
   "cell_type": "code",
   "execution_count": null,
   "metadata": {},
   "outputs": [],
   "source": [
    "ex8.plot_stability_region(bounds=(-1e-1,1e-1,-2e-1,2e-1));"
   ]
  },
  {
   "cell_type": "code",
   "execution_count": null,
   "metadata": {},
   "outputs": [],
   "source": [
    "ex8.imaginary_stability_interval()"
   ]
  },
  {
   "cell_type": "code",
   "execution_count": null,
   "metadata": {},
   "outputs": [],
   "source": [
    "ex10 = rk.extrap(10)\n",
    "ex10.plot_stability_region();"
   ]
  },
  {
   "cell_type": "code",
   "execution_count": null,
   "metadata": {},
   "outputs": [],
   "source": [
    "ex10.plot_stability_region(bounds=(-1e-1,1e-1,-2e-1,2e-1));"
   ]
  },
  {
   "cell_type": "code",
   "execution_count": null,
   "metadata": {},
   "outputs": [],
   "source": [
    "ex10.imaginary_stability_interval()"
   ]
  },
  {
   "cell_type": "markdown",
   "metadata": {},
   "source": [
    "For more detail on this topic, see [this related paper](https://dx.doi.org/10.1093/imanum/dru039)."
   ]
  }
 ],
 "metadata": {
  "kernelspec": {
   "display_name": "Python 3",
   "language": "python",
   "name": "python3"
  },
  "language_info": {
   "codemirror_mode": {
    "name": "ipython",
    "version": 3
   },
   "file_extension": ".py",
   "mimetype": "text/x-python",
   "name": "python",
   "nbconvert_exporter": "python",
   "pygments_lexer": "ipython3",
   "version": "3.6.5"
  },
  "toc": {
   "base_numbering": 1,
   "nav_menu": {},
   "number_sections": true,
   "sideBar": true,
   "skip_h1_title": false,
   "title_cell": "Table of Contents",
   "title_sidebar": "Contents",
   "toc_cell": false,
   "toc_position": {},
   "toc_section_display": true,
   "toc_window_display": false
  }
 },
 "nbformat": 4,
 "nbformat_minor": 2
}
